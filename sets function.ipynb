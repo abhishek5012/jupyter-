{
 "cells": [
  {
   "cell_type": "markdown",
   "id": "1163a33a",
   "metadata": {},
   "source": [
    "## union intersection difference and the symmetrical difference"
   ]
  },
  {
   "cell_type": "code",
   "execution_count": 1,
   "id": "82e09883",
   "metadata": {},
   "outputs": [],
   "source": [
    "A={1,3,5,7,9,0,10}"
   ]
  },
  {
   "cell_type": "code",
   "execution_count": 2,
   "id": "543d87cc",
   "metadata": {},
   "outputs": [],
   "source": [
    "B={2,4,6,8,11,5,0}"
   ]
  },
  {
   "cell_type": "markdown",
   "id": "eb4ebb5a",
   "metadata": {},
   "source": [
    "# to find the union we use the (|)"
   ]
  },
  {
   "cell_type": "code",
   "execution_count": 3,
   "id": "43d3c8db",
   "metadata": {},
   "outputs": [
    {
     "name": "stdout",
     "output_type": "stream",
     "text": [
      "{0, 1, 2, 3, 4, 5, 6, 7, 8, 9, 10, 11}\n"
     ]
    }
   ],
   "source": [
    "# union means the total values in both sets \n",
    "print(A|B)"
   ]
  },
  {
   "cell_type": "markdown",
   "id": "6faa9a8c",
   "metadata": {},
   "source": [
    "# to find the intersection we use(&)"
   ]
  },
  {
   "cell_type": "code",
   "execution_count": 4,
   "id": "beb66406",
   "metadata": {},
   "outputs": [
    {
     "name": "stdout",
     "output_type": "stream",
     "text": [
      "{0, 5}\n"
     ]
    }
   ],
   "source": [
    "#intersection means the common  values in the sets\n",
    "print(A&B)\n"
   ]
  },
  {
   "cell_type": "markdown",
   "id": "06f4618c",
   "metadata": {},
   "source": [
    "# to find the difference we use(-)"
   ]
  },
  {
   "cell_type": "code",
   "execution_count": 6,
   "id": "049cf666",
   "metadata": {},
   "outputs": [
    {
     "name": "stdout",
     "output_type": "stream",
     "text": [
      "{1, 3, 7, 9, 10}\n"
     ]
    }
   ],
   "source": [
    "#difference means the value in the set A not in B\n",
    "print(A-B)"
   ]
  },
  {
   "cell_type": "code",
   "execution_count": 7,
   "id": "eb14b959",
   "metadata": {},
   "outputs": [
    {
     "name": "stdout",
     "output_type": "stream",
     "text": [
      "{2, 4, 6, 8, 11}\n"
     ]
    }
   ],
   "source": [
    "#also the value of B not in A\n",
    "print(B-A)"
   ]
  },
  {
   "cell_type": "markdown",
   "id": "b3c1277a",
   "metadata": {},
   "source": [
    "# to find the symmetrical difference we use(^)"
   ]
  },
  {
   "cell_type": "code",
   "execution_count": 8,
   "id": "6f0dead3",
   "metadata": {},
   "outputs": [
    {
     "name": "stdout",
     "output_type": "stream",
     "text": [
      "{1, 2, 3, 4, 6, 7, 8, 9, 10, 11}\n"
     ]
    }
   ],
   "source": [
    "#symmetrical difference means the value which not in both set (just by removing the common values in the union)\n",
    "print(A^B)"
   ]
  },
  {
   "cell_type": "code",
   "execution_count": null,
   "id": "d7050d4c",
   "metadata": {},
   "outputs": [],
   "source": []
  }
 ],
 "metadata": {
  "kernelspec": {
   "display_name": "Python 3 (ipykernel)",
   "language": "python",
   "name": "python3"
  },
  "language_info": {
   "codemirror_mode": {
    "name": "ipython",
    "version": 3
   },
   "file_extension": ".py",
   "mimetype": "text/x-python",
   "name": "python",
   "nbconvert_exporter": "python",
   "pygments_lexer": "ipython3",
   "version": "3.10.1"
  }
 },
 "nbformat": 4,
 "nbformat_minor": 5
}
