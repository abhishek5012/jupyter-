{
 "cells": [
  {
   "cell_type": "markdown",
   "id": "0793997a",
   "metadata": {},
   "source": [
    "# importing of some library"
   ]
  },
  {
   "cell_type": "code",
   "execution_count": 10,
   "id": "51eecb36",
   "metadata": {},
   "outputs": [],
   "source": [
    "import pandas as pd\n",
    "import seaborn as sns\n",
    "import matplotlib.pyplot as plt"
   ]
  },
  {
   "cell_type": "markdown",
   "id": "e6da2938",
   "metadata": {},
   "source": [
    "# making of the dataframe"
   ]
  },
  {
   "cell_type": "code",
   "execution_count": 29,
   "id": "24fe2df1",
   "metadata": {},
   "outputs": [],
   "source": [
    "df=pd.DataFrame({\n",
    "    \"1yearsub\":[\"maths\",\"electronic\",\"electrical\",\"measurement\",\"material\"],\n",
    "    \"1yearmarks\":[89,78,73,76,84],\n",
    "    \"2yearsub\":[\"chemistry\",\"physics\",\"computer\",\"microprocessor\",\"english\"],\n",
    "    \"2yearmarks\":[93,90,90,72,78],\n",
    "    \"3yearsub\":[\"OB\",\"powersystem\",\"drawing\",\"electromagnetic\",\"lab\"],\n",
    "    \"3yearmarks\":[90,85,80,74,89]\n",
    "    \n",
    "})"
   ]
  },
  {
   "cell_type": "code",
   "execution_count": 30,
   "id": "61f79e89",
   "metadata": {},
   "outputs": [
    {
     "data": {
      "text/html": [
       "<div>\n",
       "<style scoped>\n",
       "    .dataframe tbody tr th:only-of-type {\n",
       "        vertical-align: middle;\n",
       "    }\n",
       "\n",
       "    .dataframe tbody tr th {\n",
       "        vertical-align: top;\n",
       "    }\n",
       "\n",
       "    .dataframe thead th {\n",
       "        text-align: right;\n",
       "    }\n",
       "</style>\n",
       "<table border=\"1\" class=\"dataframe\">\n",
       "  <thead>\n",
       "    <tr style=\"text-align: right;\">\n",
       "      <th></th>\n",
       "      <th>1yearsub</th>\n",
       "      <th>1yearmarks</th>\n",
       "      <th>2yearsub</th>\n",
       "      <th>2yearmarks</th>\n",
       "      <th>3yearsub</th>\n",
       "      <th>3yearmarks</th>\n",
       "    </tr>\n",
       "  </thead>\n",
       "  <tbody>\n",
       "    <tr>\n",
       "      <th>0</th>\n",
       "      <td>maths</td>\n",
       "      <td>89</td>\n",
       "      <td>chemistry</td>\n",
       "      <td>93</td>\n",
       "      <td>OB</td>\n",
       "      <td>90</td>\n",
       "    </tr>\n",
       "    <tr>\n",
       "      <th>1</th>\n",
       "      <td>electronic</td>\n",
       "      <td>78</td>\n",
       "      <td>physics</td>\n",
       "      <td>90</td>\n",
       "      <td>powersystem</td>\n",
       "      <td>85</td>\n",
       "    </tr>\n",
       "    <tr>\n",
       "      <th>2</th>\n",
       "      <td>electrical</td>\n",
       "      <td>73</td>\n",
       "      <td>computer</td>\n",
       "      <td>90</td>\n",
       "      <td>drawing</td>\n",
       "      <td>80</td>\n",
       "    </tr>\n",
       "    <tr>\n",
       "      <th>3</th>\n",
       "      <td>measurement</td>\n",
       "      <td>76</td>\n",
       "      <td>microprocessor</td>\n",
       "      <td>72</td>\n",
       "      <td>electromagnetic</td>\n",
       "      <td>74</td>\n",
       "    </tr>\n",
       "    <tr>\n",
       "      <th>4</th>\n",
       "      <td>material</td>\n",
       "      <td>84</td>\n",
       "      <td>english</td>\n",
       "      <td>78</td>\n",
       "      <td>lab</td>\n",
       "      <td>89</td>\n",
       "    </tr>\n",
       "  </tbody>\n",
       "</table>\n",
       "</div>"
      ],
      "text/plain": [
       "      1yearsub  1yearmarks        2yearsub  2yearmarks         3yearsub  \\\n",
       "0        maths          89       chemistry          93               OB   \n",
       "1   electronic          78         physics          90      powersystem   \n",
       "2   electrical          73        computer          90          drawing   \n",
       "3  measurement          76  microprocessor          72  electromagnetic   \n",
       "4     material          84         english          78              lab   \n",
       "\n",
       "   3yearmarks  \n",
       "0          90  \n",
       "1          85  \n",
       "2          80  \n",
       "3          74  \n",
       "4          89  "
      ]
     },
     "execution_count": 30,
     "metadata": {},
     "output_type": "execute_result"
    }
   ],
   "source": [
    "df"
   ]
  },
  {
   "cell_type": "markdown",
   "id": "f0c8b3b2",
   "metadata": {},
   "source": [
    "# visiualization of bar plot"
   ]
  },
  {
   "cell_type": "code",
   "execution_count": 31,
   "id": "4c2dfc8e",
   "metadata": {},
   "outputs": [
    {
     "data": {
      "text/plain": [
       "<AxesSubplot:xlabel='1yearsub', ylabel='1yearmarks'>"
      ]
     },
     "execution_count": 31,
     "metadata": {},
     "output_type": "execute_result"
    },
    {
     "data": {
      "image/png": "[encoded data removed]",
      "text/plain": [
       "<Figure size 432x288 with 1 Axes>"
      ]
     },
     "metadata": {
      "needs_background": "light"
     },
     "output_type": "display_data"
    }
   ],
   "source": [
    "sns.barplot(x=\"1yearsub\",y=\"1yearmarks\",data=df)"
   ]
  },
  {
   "cell_type": "code",
   "execution_count": 32,
   "id": "b5364046",
   "metadata": {},
   "outputs": [
    {
     "data": {
      "text/plain": [
       "<AxesSubplot:xlabel='2yearsub', ylabel='2yearmarks'>"
      ]
     },
     "execution_count": 32,
     "metadata": {},
     "output_type": "execute_result"
    },
    {
     "data": {
      "image/png": "[encoded data removed]",
      "text/plain": [
       "<Figure size 432x288 with 1 Axes>"
      ]
     },
     "metadata": {
      "needs_background": "light"
     },
     "output_type": "display_data"
    }
   ],
   "source": [
    "sns.barplot(x=\"2yearsub\",y=\"2yearmarks\",data=df)"
   ]
  },
  {
   "cell_type": "code",
   "execution_count": 33,
   "id": "28232549",
   "metadata": {},
   "outputs": [
    {
     "data": {
      "text/plain": [
       "<AxesSubplot:xlabel='3yearsub', ylabel='3yearmarks'>"
      ]
     },
     "execution_count": 33,
     "metadata": {},
     "output_type": "execute_result"
    },
    {
     "data": {
      "image/png": "[encoded data removed]",
      "text/plain": [
       "<Figure size 432x288 with 1 Axes>"
      ]
     },
     "metadata": {
      "needs_background": "light"
     },
     "output_type": "display_data"
    }
   ],
   "source": [
    "sns.barplot(x=\"3yearsub\",y=\"3yearmarks\",data=df)"
   ]
  },
  {
   "cell_type": "code",
   "execution_count": 34,
   "id": "11452ee4",
   "metadata": {},
   "outputs": [
    {
     "data": {
      "text/html": [
       "<div>\n",
       "<style scoped>\n",
       "    .dataframe tbody tr th:only-of-type {\n",
       "        vertical-align: middle;\n",
       "    }\n",
       "\n",
       "    .dataframe tbody tr th {\n",
       "        vertical-align: top;\n",
       "    }\n",
       "\n",
       "    .dataframe thead th {\n",
       "        text-align: right;\n",
       "    }\n",
       "</style>\n",
       "<table border=\"1\" class=\"dataframe\">\n",
       "  <thead>\n",
       "    <tr style=\"text-align: right;\">\n",
       "      <th></th>\n",
       "      <th>1yearsub</th>\n",
       "      <th>1yearmarks</th>\n",
       "      <th>2yearsub</th>\n",
       "      <th>2yearmarks</th>\n",
       "      <th>3yearsub</th>\n",
       "      <th>3yearmarks</th>\n",
       "    </tr>\n",
       "  </thead>\n",
       "  <tbody>\n",
       "    <tr>\n",
       "      <th>0</th>\n",
       "      <td>maths</td>\n",
       "      <td>89</td>\n",
       "      <td>chemistry</td>\n",
       "      <td>93</td>\n",
       "      <td>OB</td>\n",
       "      <td>90</td>\n",
       "    </tr>\n",
       "    <tr>\n",
       "      <th>1</th>\n",
       "      <td>electronic</td>\n",
       "      <td>78</td>\n",
       "      <td>physics</td>\n",
       "      <td>90</td>\n",
       "      <td>powersystem</td>\n",
       "      <td>85</td>\n",
       "    </tr>\n",
       "    <tr>\n",
       "      <th>2</th>\n",
       "      <td>electrical</td>\n",
       "      <td>73</td>\n",
       "      <td>computer</td>\n",
       "      <td>90</td>\n",
       "      <td>drawing</td>\n",
       "      <td>80</td>\n",
       "    </tr>\n",
       "    <tr>\n",
       "      <th>3</th>\n",
       "      <td>measurement</td>\n",
       "      <td>76</td>\n",
       "      <td>microprocessor</td>\n",
       "      <td>72</td>\n",
       "      <td>electromagnetic</td>\n",
       "      <td>74</td>\n",
       "    </tr>\n",
       "    <tr>\n",
       "      <th>4</th>\n",
       "      <td>material</td>\n",
       "      <td>84</td>\n",
       "      <td>english</td>\n",
       "      <td>78</td>\n",
       "      <td>lab</td>\n",
       "      <td>89</td>\n",
       "    </tr>\n",
       "  </tbody>\n",
       "</table>\n",
       "</div>"
      ],
      "text/plain": [
       "      1yearsub  1yearmarks        2yearsub  2yearmarks         3yearsub  \\\n",
       "0        maths          89       chemistry          93               OB   \n",
       "1   electronic          78         physics          90      powersystem   \n",
       "2   electrical          73        computer          90          drawing   \n",
       "3  measurement          76  microprocessor          72  electromagnetic   \n",
       "4     material          84         english          78              lab   \n",
       "\n",
       "   3yearmarks  \n",
       "0          90  \n",
       "1          85  \n",
       "2          80  \n",
       "3          74  \n",
       "4          89  "
      ]
     },
     "execution_count": 34,
     "metadata": {},
     "output_type": "execute_result"
    }
   ],
   "source": [
    "df"
   ]
  },
  {
   "cell_type": "code",
   "execution_count": 39,
   "id": "fa1be4d9",
   "metadata": {},
   "outputs": [],
   "source": [
    "year1=df[\"1yearmarks\"].mean()"
   ]
  },
  {
   "cell_type": "code",
   "execution_count": 40,
   "id": "bd5ba2df",
   "metadata": {},
   "outputs": [],
   "source": [
    "year2=df[\"2yearmarks\"].mean()"
   ]
  },
  {
   "cell_type": "code",
   "execution_count": 41,
   "id": "9d70cee7",
   "metadata": {},
   "outputs": [],
   "source": [
    "year3=df[\"3yearmarks\"].mean()"
   ]
  },
  {
   "cell_type": "code",
   "execution_count": 42,
   "id": "addc1418",
   "metadata": {},
   "outputs": [],
   "source": [
    "total=pd.DataFrame({\n",
    "    \"year\":[\"first\",\"second\",\"third\"],\n",
    "    \"marks\":[year1,year2,year3]\n",
    "    \n",
    "})"
   ]
  },
  {
   "cell_type": "code",
   "execution_count": 43,
   "id": "ff1a6d8b",
   "metadata": {},
   "outputs": [
    {
     "data": {
      "text/html": [
       "<div>\n",
       "<style scoped>\n",
       "    .dataframe tbody tr th:only-of-type {\n",
       "        vertical-align: middle;\n",
       "    }\n",
       "\n",
       "    .dataframe tbody tr th {\n",
       "        vertical-align: top;\n",
       "    }\n",
       "\n",
       "    .dataframe thead th {\n",
       "        text-align: right;\n",
       "    }\n",
       "</style>\n",
       "<table border=\"1\" class=\"dataframe\">\n",
       "  <thead>\n",
       "    <tr style=\"text-align: right;\">\n",
       "      <th></th>\n",
       "      <th>year</th>\n",
       "      <th>marks</th>\n",
       "    </tr>\n",
       "  </thead>\n",
       "  <tbody>\n",
       "    <tr>\n",
       "      <th>0</th>\n",
       "      <td>first</td>\n",
       "      <td>80.0</td>\n",
       "    </tr>\n",
       "    <tr>\n",
       "      <th>1</th>\n",
       "      <td>second</td>\n",
       "      <td>84.6</td>\n",
       "    </tr>\n",
       "    <tr>\n",
       "      <th>2</th>\n",
       "      <td>third</td>\n",
       "      <td>83.6</td>\n",
       "    </tr>\n",
       "  </tbody>\n",
       "</table>\n",
       "</div>"
      ],
      "text/plain": [
       "     year  marks\n",
       "0   first   80.0\n",
       "1  second   84.6\n",
       "2   third   83.6"
      ]
     },
     "execution_count": 43,
     "metadata": {},
     "output_type": "execute_result"
    }
   ],
   "source": [
    "total"
   ]
  },
  {
   "cell_type": "code",
   "execution_count": 44,
   "id": "30b07d30",
   "metadata": {},
   "outputs": [
    {
     "data": {
      "text/plain": [
       "<AxesSubplot:xlabel='year', ylabel='marks'>"
      ]
     },
     "execution_count": 44,
     "metadata": {},
     "output_type": "execute_result"
    },
    {
     "data": {
      "image/png": "[encoded data removed]",
      "text/plain": [
       "<Figure size 432x288 with 1 Axes>"
      ]
     },
     "metadata": {
      "needs_background": "light"
     },
     "output_type": "display_data"
    }
   ],
   "source": [
    "sns.barplot(x=\"year\",y=\"marks\",data=total)"
   ]
  },
  {
   "cell_type": "markdown",
   "id": "ca1223d3",
   "metadata": {},
   "source": [
    "# using the matplotlib.pyplot"
   ]
  },
  {
   "cell_type": "code",
   "execution_count": 49,
   "id": "08475c9e",
   "metadata": {},
   "outputs": [
    {
     "data": {
      "text/plain": [
       "<BarContainer object of 3 artists>"
      ]
     },
     "execution_count": 49,
     "metadata": {},
     "output_type": "execute_result"
    },
    {
     "data": {
      "image/png": "[encoded data removed]",
      "text/plain": [
       "<Figure size 432x288 with 1 Axes>"
      ]
     },
     "metadata": {
      "needs_background": "light"
     },
     "output_type": "display_data"
    }
   ],
   "source": [
    "#meanof all year\n",
    "plt.bar(x=[\"first\",\"second\",\"third\"],height=[year1,year2,year3])"
   ]
  },
  {
   "cell_type": "code",
   "execution_count": 50,
   "id": "376f08f2",
   "metadata": {},
   "outputs": [
    {
     "data": {
      "text/plain": [
       "<BarContainer object of 5 artists>"
      ]
     },
     "execution_count": 50,
     "metadata": {},
     "output_type": "execute_result"
    },
    {
     "data": {
      "image/png": "[encoded data removed]",
      "text/plain": [
       "<Figure size 432x288 with 1 Axes>"
      ]
     },
     "metadata": {
      "needs_background": "light"
     },
     "output_type": "display_data"
    }
   ],
   "source": [
    "plt.bar(x=[\"maths\",\"electronic\",\"electrical\",\"measurement\",\"material\"],height=[89,78,73,76,84])"
   ]
  },
  {
   "cell_type": "code",
   "execution_count": 51,
   "id": "5115b7b0",
   "metadata": {},
   "outputs": [
    {
     "data": {
      "text/plain": [
       "<BarContainer object of 5 artists>"
      ]
     },
     "execution_count": 51,
     "metadata": {},
     "output_type": "execute_result"
    },
    {
     "data": {
      "image/png": "[encoded data removed]",
      "text/plain": [
       "<Figure size 432x288 with 1 Axes>"
      ]
     },
     "metadata": {
      "needs_background": "light"
     },
     "output_type": "display_data"
    }
   ],
   "source": [
    "plt.bar(x=[\"chemistry\",\"physics\",\"computer\",\"microprocessor\",\"english\"],height=[93,90,90,72,78])"
   ]
  },
  {
   "cell_type": "code",
   "execution_count": 52,
   "id": "1bf686ad",
   "metadata": {},
   "outputs": [
    {
     "data": {
      "text/plain": [
       "<BarContainer object of 5 artists>"
      ]
     },
     "execution_count": 52,
     "metadata": {},
     "output_type": "execute_result"
    },
    {
     "data": {
      "image/png": "[encoded data removed]",
      "text/plain": [
       "<Figure size 432x288 with 1 Axes>"
      ]
     },
     "metadata": {
      "needs_background": "light"
     },
     "output_type": "display_data"
    }
   ],
   "source": [
    "plt.bar(x=[\"OB\",\"powersystem\",\"drawing\",\"electromagnetic\",\"lab\"],height=[90,85,80,74,89])"
   ]
  },
  {
   "cell_type": "markdown",
   "id": "cbef3b98",
   "metadata": {},
   "source": [
    "# mean scores at the school"
   ]
  },
  {
   "cell_type": "code",
   "execution_count": 60,
   "id": "71580a43",
   "metadata": {},
   "outputs": [
    {
     "data": {
      "text/plain": [
       "<BarContainer object of 5 artists>"
      ]
     },
     "execution_count": 60,
     "metadata": {},
     "output_type": "execute_result"
    },
    {
     "data": {
      "image/png": "[encoded data removed]",
      "text/plain": [
       "<Figure size 432x288 with 1 Axes>"
      ]
     },
     "metadata": {
      "needs_background": "light"
     },
     "output_type": "display_data"
    }
   ],
   "source": [
    "plt.bar(x=[\"12th\",\"11th\",\"10th\",\"9th\",\"8th\"],height=[90,87,85,75,79],fill=True,facecolor=\"red\",edgecolor=\"black\")"
   ]
  },
  {
   "cell_type": "code",
   "execution_count": null,
   "id": "10ec54a6",
   "metadata": {},
   "outputs": [],
   "source": []
  }
 ],
 "metadata": {
  "kernelspec": {
   "display_name": "Python 3 (ipykernel)",
   "language": "python",
   "name": "python3"
  },
  "language_info": {
   "codemirror_mode": {
    "name": "ipython",
    "version": 3
   },
   "file_extension": ".py",
   "mimetype": "text/x-python",
   "name": "python",
   "nbconvert_exporter": "python",
   "pygments_lexer": "ipython3",
   "version": "3.10.1"
  }
 },
 "nbformat": 4,
 "nbformat_minor": 5
}
